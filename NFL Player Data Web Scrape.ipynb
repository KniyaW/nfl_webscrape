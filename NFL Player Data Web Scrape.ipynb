{
 "cells": [
  {
   "cell_type": "code",
   "execution_count": 1,
   "id": "7f0c67c2",
   "metadata": {},
   "outputs": [],
   "source": [
    "##Logan Lauton\n",
    "\n",
    "##importing packages needed for scrape\n",
    "from urllib.request import urlopen\n",
    "from bs4 import BeautifulSoup\n",
    "import pandas as pd\n",
    "import time\n",
    "\n",
    "##code to scrape a single seasons data\n",
    "def single(season):\n",
    "    url = f'https://www.pro-football-reference.com/years/{season}/scoring.htm'\n",
    "    table_html = BeautifulSoup(urlopen(url), 'html.parser').findAll('table')\n",
    "    df = pd.read_html(str(table_html))[0]\n",
    "    df = df.drop('Rk', 1) # drop Rk columns\n",
    "    df.Player = df.Player.str.replace('*','') # remove asterisk on player's name\n",
    "    df.insert(0,'Season',season) # insert season column\n",
    "    df = df.apply(pd.to_numeric, errors='coerce').fillna(df) # convert non string values to numeric\n",
    "    return df\n",
    "\n",
    "##function to scrape multiple seasons of data at a time\n",
    "def multiple(start_year,end_year):\n",
    "    df = single(start_year)\n",
    "    while start_year < end_year:\n",
    "        time.sleep(4)                     ##code sleeps for 4 seconds between calls as 20 requests per minute \n",
    "        start_year = start_year + 1       ##are allowed meaning only 15 requests per minute will be made here\n",
    "        df = df.append(single(start_year))\n",
    "    return df"
   ]
  },
  {
   "cell_type": "code",
   "execution_count": null,
   "id": "d64efc6e",
   "metadata": {},
   "outputs": [
    {
     "name": "stderr",
     "output_type": "stream",
     "text": [
      "/home/logan/py37/lib/python3.7/site-packages/ipykernel_launcher.py:14: FutureWarning: In a future version of pandas all arguments of DataFrame.drop except for the argument 'labels' will be keyword-only\n",
      "  \n",
      "/home/logan/py37/lib/python3.7/site-packages/ipykernel_launcher.py:15: FutureWarning: The default value of regex will change from True to False in a future version. In addition, single character regular expressions will *not* be treated as literal strings when regex=True.\n",
      "  from ipykernel import kernelapp as app\n"
     ]
    }
   ],
   "source": [
    "##calling for all NFL seasons data(1921-22 until 2021-22)\n",
    "df = multiple(1922,2022)"
   ]
  },
  {
   "cell_type": "code",
   "execution_count": null,
   "id": "b1ba4e41",
   "metadata": {},
   "outputs": [],
   "source": [
    "##quick check to ensure both 1922 and 2022 were included in the table\n",
    "df"
   ]
  },
  {
   "cell_type": "code",
   "execution_count": null,
   "id": "f46ac862",
   "metadata": {},
   "outputs": [],
   "source": [
    "##removal of any rows containing the column names\n",
    "df = df[df['Player']!='Player']"
   ]
  },
  {
   "cell_type": "code",
   "execution_count": null,
   "id": "2f1e7acc",
   "metadata": {},
   "outputs": [],
   "source": [
    "##exporting df as csv\n",
    "df.to_csv('NFL Player Stats(1922 - 2022).csv', index = True)"
   ]
  }
 ],
 "metadata": {
  "kernelspec": {
   "display_name": "Python 3 (ipykernel)",
   "language": "python",
   "name": "python3"
  },
  "language_info": {
   "codemirror_mode": {
    "name": "ipython",
    "version": 3
   },
   "file_extension": ".py",
   "mimetype": "text/x-python",
   "name": "python",
   "nbconvert_exporter": "python",
   "pygments_lexer": "ipython3",
   "version": "3.7.12"
  }
 },
 "nbformat": 4,
 "nbformat_minor": 5
}
